{
 "cells": [
  {
   "cell_type": "code",
   "execution_count": 1,
   "id": "cc765abe-fe10-4446-b598-d25c2c7211c6",
   "metadata": {},
   "outputs": [],
   "source": [
    "import warnings\n",
    "warnings.filterwarnings(\"ignore\")\n"
   ]
  },
  {
   "cell_type": "code",
   "execution_count": 2,
   "id": "f4316ab3-6884-46b8-b06c-91f638cf1e4e",
   "metadata": {},
   "outputs": [
    {
     "name": "stderr",
     "output_type": "stream",
     "text": [
      "2025-01-28 19:35:24.908738: I tensorflow/core/util/port.cc:153] oneDNN custom operations are on. You may see slightly different numerical results due to floating-point round-off errors from different computation orders. To turn them off, set the environment variable `TF_ENABLE_ONEDNN_OPTS=0`.\n",
      "2025-01-28 19:35:24.919457: E external/local_xla/xla/stream_executor/cuda/cuda_fft.cc:477] Unable to register cuFFT factory: Attempting to register factory for plugin cuFFT when one has already been registered\n",
      "WARNING: All log messages before absl::InitializeLog() is called are written to STDERR\n",
      "E0000 00:00:1738073124.930045   27833 cuda_dnn.cc:8310] Unable to register cuDNN factory: Attempting to register factory for plugin cuDNN when one has already been registered\n",
      "E0000 00:00:1738073124.933212   27833 cuda_blas.cc:1418] Unable to register cuBLAS factory: Attempting to register factory for plugin cuBLAS when one has already been registered\n",
      "2025-01-28 19:35:24.945493: I tensorflow/core/platform/cpu_feature_guard.cc:210] This TensorFlow binary is optimized to use available CPU instructions in performance-critical operations.\n",
      "To enable the following instructions: AVX2 AVX_VNNI FMA, in other operations, rebuild TensorFlow with the appropriate compiler flags.\n"
     ]
    }
   ],
   "source": [
    "import tensorflow as tf\n",
    "from tensorflow.keras.models import Model\n",
    "from tensorflow.keras.layers import Input"
   ]
  },
  {
   "cell_type": "code",
   "execution_count": 3,
   "id": "21589ba2-50ef-4974-b696-7ab7e10ce5a8",
   "metadata": {},
   "outputs": [],
   "source": [
    "batch_size=10\n",
    "classes_config={\n",
    "    0:3,\n",
    "    1:4,\n",
    "    2:2\n",
    "}\n"
   ]
  },
  {
   "cell_type": "code",
   "execution_count": 4,
   "id": "c68be706-8aac-434f-88ce-dd18048656ff",
   "metadata": {},
   "outputs": [],
   "source": [
    "conv_layer_config=[\n",
    "    {\n",
    "        'filters':16,\n",
    "        'kernel_size':(3,3),\n",
    "        'padding':\"same\",\n",
    "        'activation':\"relu\",\n",
    "        'kernel_initializer':\"he_uniform\"\n",
    "    },\n",
    "     {\n",
    "        'filters':32,\n",
    "        'kernel_size':(5,5),\n",
    "        'padding':\"same\",\n",
    "        'activation':\"relu\",\n",
    "        'kernel_initializer':\"he_uniform\"\n",
    "    }\n",
    "    \n",
    "]"
   ]
  },
  {
   "cell_type": "code",
   "execution_count": 5,
   "id": "25d6a85e-e96b-4d76-a6b0-aba9f2120126",
   "metadata": {},
   "outputs": [],
   "source": [
    "dense_layer_config=[\n",
    "    {\n",
    "        'units':256,\n",
    "        'activation':\"relu\",\n",
    "        'kernel_initializer':\"he_uniform\"\n",
    "    },\n",
    "    {\n",
    "        'units':32,\n",
    "        'activation':\"relu\",\n",
    "        'kernel_initializer':\"he_uniform\"\n",
    "    }\n",
    "]"
   ]
  },
  {
   "cell_type": "code",
   "execution_count": 6,
   "id": "da40819c-0a06-4c55-acff-4e602ebad129",
   "metadata": {},
   "outputs": [],
   "source": [
    "last_layer_config={\n",
    "    'activation':\"softmax\",\n",
    "    'kernel_initializer':\"glorot_uniform\"\n",
    "}"
   ]
  },
  {
   "cell_type": "code",
   "execution_count": 7,
   "id": "04fd8f89-d61d-435f-9190-409961789436",
   "metadata": {},
   "outputs": [],
   "source": [
    "pre_dcn_layers_config={\n",
    "    \"ConvolutionLayers\":conv_layer_config,\n",
    "    \"DenseLayers\":dense_layer_config,\n",
    "    \"LastLayer\":last_layer_config\n",
    "}"
   ]
  },
  {
   "cell_type": "code",
   "execution_count": 8,
   "id": "11f401aa-b157-49e1-bbd7-a5b0c436e23d",
   "metadata": {},
   "outputs": [],
   "source": [
    "from dynamic_convolution_model import DynamiConvolutionModel"
   ]
  },
  {
   "cell_type": "code",
   "execution_count": 9,
   "id": "f6dd309d-de2a-40aa-a1d1-c09271f8a7db",
   "metadata": {
    "scrolled": true
   },
   "outputs": [],
   "source": [
    "model=DynamiConvolutionModel(\n",
    "    batch_size=batch_size,\n",
    "    classes_config=classes_config,\n",
    "    pre_dcn_layers_config=pre_dcn_layers_config\n",
    ")"
   ]
  },
  {
   "cell_type": "code",
   "execution_count": 10,
   "id": "86b0404f-07f5-4c30-82b2-c802828ef1cf",
   "metadata": {},
   "outputs": [],
   "source": [
    "from tensorflow.keras.optimizers import Adam"
   ]
  },
  {
   "cell_type": "code",
   "execution_count": 11,
   "id": "b3c44331-85e8-41d2-86da-b63f4859839a",
   "metadata": {},
   "outputs": [
    {
     "name": "stderr",
     "output_type": "stream",
     "text": [
      "2025-01-28 19:35:26.349546: E external/local_xla/xla/stream_executor/cuda/cuda_driver.cc:152] failed call to cuInit: INTERNAL: CUDA error: Failed call to cuInit: UNKNOWN ERROR (303)\n"
     ]
    }
   ],
   "source": [
    "optimizer=Adam(\n",
    "    learning_rate=0.001,\n",
    "    beta_1=0.96,\n",
    "    beta_2=0.98\n",
    ")"
   ]
  },
  {
   "cell_type": "code",
   "execution_count": 12,
   "id": "c8585b8c-a323-4101-a68f-5c140396728d",
   "metadata": {},
   "outputs": [],
   "source": [
    "model.compile(\n",
    "    optimizer=optimizer,\n",
    "    loss=[\"categorical_cross_entropy\",\"categorical_cross_entropy\"],\n",
    "    loss_weights=[5,2]\n",
    ")"
   ]
  },
  {
   "cell_type": "code",
   "execution_count": null,
   "id": "01d0def0-76d6-4811-9697-505876b91a0e",
   "metadata": {},
   "outputs": [],
   "source": []
  }
 ],
 "metadata": {
  "kernelspec": {
   "display_name": "Python 3 (ipykernel)",
   "language": "python",
   "name": "python3"
  },
  "language_info": {
   "codemirror_mode": {
    "name": "ipython",
    "version": 3
   },
   "file_extension": ".py",
   "mimetype": "text/x-python",
   "name": "python",
   "nbconvert_exporter": "python",
   "pygments_lexer": "ipython3",
   "version": "3.10.12"
  }
 },
 "nbformat": 4,
 "nbformat_minor": 5
}
